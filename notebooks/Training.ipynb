{
 "cells": [
  {
   "cell_type": "code",
   "execution_count": null,
   "metadata": {
    "collapsed": false
   },
   "outputs": [],
   "source": [
    "import sys\n",
    "sys.path.append(\"../functions\")\n",
    "import pickle\n",
    "import CNN\n",
    "import numpy as np\n",
    "import word_vector_map\n",
    "import decoder\n",
    "from PIL import Image"
   ]
  },
  {
   "cell_type": "code",
   "execution_count": null,
   "metadata": {
    "collapsed": false
   },
   "outputs": [],
   "source": [
    "train_images = pickle.load( open( \"../data/train.images\", \"rb\" ) )\n",
    "train_sentences = pickle.load( open( \"../data/train.sentences\", \"rb\" ) )\n",
    "train_vectors = [word_vector_map.sentence_to_vec(sentence) for sentence in train_sentences]"
   ]
  },
  {
   "cell_type": "code",
   "execution_count": null,
   "metadata": {
    "collapsed": false,
    "scrolled": true
   },
   "outputs": [],
   "source": [
    "CNN.train(train_images, train_vectors, num_words = 2, batch_size = 8, epochs = 50)"
   ]
  },
  {
   "cell_type": "code",
   "execution_count": null,
   "metadata": {
    "collapsed": false
   },
   "outputs": [],
   "source": [
    "test_images = pickle.load( open( \"../data/test.images\", \"rb\" ) )\n",
    "test_sentences = pickle.load( open( \"../data/test.sentences\", \"rb\" ) )\n",
    "test_vectors = [word_vector_map.sentence_to_vec(sentence) for sentence in test_sentences]"
   ]
  },
  {
   "cell_type": "code",
   "execution_count": null,
   "metadata": {
    "collapsed": false
   },
   "outputs": [],
   "source": [
    "for i in range(len(test_images)):\n",
    "    print '________________'\n",
    "    print 'actual sentence: ' + test_sentences[i]\n",
    "    print 'calculated sentence: ' + decoder.decode(test_images[i], num_words = 2)\n",
    "    print 'actual vector:' + str(test_vectors[i])\n",
    "    print 'calculated vector' + str(CNN.predict(test_images[i])[0])"
   ]
  },
  {
   "cell_type": "code",
   "execution_count": null,
   "metadata": {
    "collapsed": true
   },
   "outputs": [],
   "source": []
  }
 ],
 "metadata": {
  "kernelspec": {
   "display_name": "Python 2",
   "language": "python",
   "name": "python2"
  },
  "language_info": {
   "codemirror_mode": {
    "name": "ipython",
    "version": 2
   },
   "file_extension": ".py",
   "mimetype": "text/x-python",
   "name": "python",
   "nbconvert_exporter": "python",
   "pygments_lexer": "ipython2",
   "version": "2.7.10"
  }
 },
 "nbformat": 4,
 "nbformat_minor": 2
}
